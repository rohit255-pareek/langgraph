{
 "cells": [
  {
   "cell_type": "code",
   "execution_count": 1,
   "id": "5895ce4d",
   "metadata": {},
   "outputs": [],
   "source": [
    "from typing import Annotated\n",
    "from typing_extensions import TypedDict\n",
    "from langgraph.graph import StateGraph , START , END\n",
    "from langgraph.graph.message import add_messages"
   ]
  },
  {
   "cell_type": "code",
   "execution_count": 2,
   "id": "3435e752",
   "metadata": {},
   "outputs": [],
   "source": [
    "class State(TypedDict):\n",
    "    messages:Annotated[list,add_messages]"
   ]
  },
  {
   "cell_type": "code",
   "execution_count": 3,
   "id": "50a864b2",
   "metadata": {},
   "outputs": [
    {
     "data": {
      "text/plain": [
       "True"
      ]
     },
     "execution_count": 3,
     "metadata": {},
     "output_type": "execute_result"
    }
   ],
   "source": [
    "import os\n",
    "from dotenv import load_dotenv\n",
    "load_dotenv()"
   ]
  },
  {
   "cell_type": "code",
   "execution_count": 4,
   "id": "b837c667",
   "metadata": {},
   "outputs": [],
   "source": [
    "from langchain_groq import ChatGroq\n",
    "from langchain.chat_models import init_chat_model\n",
    "\n",
    "llm=ChatGroq(model=\"llama3-8b-8192\")"
   ]
  },
  {
   "cell_type": "code",
   "execution_count": 5,
   "id": "920191f9",
   "metadata": {},
   "outputs": [],
   "source": [
    "# Node\n",
    "def chatbot(state:State):\n",
    "    return{\"messages\":[llm.invoke(state[\"messages\"])]}"
   ]
  },
  {
   "cell_type": "code",
   "execution_count": 6,
   "id": "9c614ddb",
   "metadata": {},
   "outputs": [],
   "source": [
    "graph_builder = StateGraph(State)\n",
    "\n",
    "# Adding node\n",
    "graph_builder.add_node(\"llmchatbot\",chatbot)\n",
    "# Adding Edge\n",
    "graph_builder.add_edge(START,\"llmchatbot\")\n",
    "graph_builder.add_edge(\"llmchatbot\",END)\n",
    "\n",
    "# Compile the graph\n",
    "graph=graph_builder.compile()"
   ]
  },
  {
   "cell_type": "code",
   "execution_count": 7,
   "id": "3cfa7ae9",
   "metadata": {},
   "outputs": [
    {
     "data": {
      "image/png": "[encoded data removed]",
      "text/plain": [
       "<langgraph.graph.state.CompiledStateGraph object at 0x0000017ED023A510>"
      ]
     },
     "execution_count": 7,
     "metadata": {},
     "output_type": "execute_result"
    }
   ],
   "source": [
    "graph"
   ]
  },
  {
   "cell_type": "code",
   "execution_count": 8,
   "id": "e7469d55",
   "metadata": {},
   "outputs": [],
   "source": [
    "response = graph.invoke({\"messages\": [\"Hi\"]})"
   ]
  },
  {
   "cell_type": "code",
   "execution_count": 9,
   "id": "8edd57ed",
   "metadata": {},
   "outputs": [
    {
     "data": {
      "text/plain": [
       "\"Hi! It's nice to meet you. Is there something I can help you with or would you like to chat?\""
      ]
     },
     "execution_count": 9,
     "metadata": {},
     "output_type": "execute_result"
    }
   ],
   "source": [
    "response[\"messages\"][-1].content"
   ]
  },
  {
   "cell_type": "code",
   "execution_count": 10,
   "id": "514a9835",
   "metadata": {},
   "outputs": [
    {
     "name": "stdout",
     "output_type": "stream",
     "text": [
      "I'm just a language model, I don't have feelings or emotions like humans do. However, I'm functioning properly and ready to help you with any questions or tasks you have! How can I assist you today?\n"
     ]
    }
   ],
   "source": [
    "for event in graph.stream({\"messages\":\"Hi How are your?\"}):\n",
    "    for value in event.values():\n",
    "        print(value[\"messages\"][-1].content)"
   ]
  },
  {
   "cell_type": "code",
   "execution_count": 11,
   "id": "3954eb37",
   "metadata": {},
   "outputs": [
    {
     "name": "stderr",
     "output_type": "stream",
     "text": [
      "c:\\Users\\user\\Desktop\\LangGraph2\\a7_lang\\.venv\\Lib\\site-packages\\langchain_tavily\\tavily_crawl.py:76: SyntaxWarning: invalid escape sequence '\\.'\n",
      "  description=\"\"\"Regex patterns to select only URLs from specific domains or subdomains.\n",
      "c:\\Users\\user\\Desktop\\LangGraph2\\a7_lang\\.venv\\Lib\\site-packages\\langchain_tavily\\tavily_crawl.py:95: SyntaxWarning: invalid escape sequence '\\.'\n",
      "  description=\"\"\"Regex patterns to exclude URLs from specific domains or subdomains.\n",
      "c:\\Users\\user\\Desktop\\LangGraph2\\a7_lang\\.venv\\Lib\\site-packages\\langchain_tavily\\tavily_crawl.py:229: SyntaxWarning: invalid escape sequence '\\.'\n",
      "  \"\"\"Regex patterns to select only URLs from specific domains or subdomains.\n",
      "c:\\Users\\user\\Desktop\\LangGraph2\\a7_lang\\.venv\\Lib\\site-packages\\langchain_tavily\\tavily_crawl.py:239: SyntaxWarning: invalid escape sequence '\\.'\n",
      "  \"\"\"\n",
      "c:\\Users\\user\\Desktop\\LangGraph2\\a7_lang\\.venv\\Lib\\site-packages\\langchain_tavily\\tavily_map.py:76: SyntaxWarning: invalid escape sequence '\\.'\n",
      "  description=\"\"\"Regex patterns to select only URLs from specific domains or subdomains.\n",
      "c:\\Users\\user\\Desktop\\LangGraph2\\a7_lang\\.venv\\Lib\\site-packages\\langchain_tavily\\tavily_map.py:95: SyntaxWarning: invalid escape sequence '\\.'\n",
      "  description=\"\"\"Regex patterns to exclude URLs from specific domains or subdomains.\n",
      "c:\\Users\\user\\Desktop\\LangGraph2\\a7_lang\\.venv\\Lib\\site-packages\\langchain_tavily\\tavily_map.py:217: SyntaxWarning: invalid escape sequence '\\.'\n",
      "  \"\"\"Regex patterns to select only URLs from specific domains or subdomains.\n",
      "c:\\Users\\user\\Desktop\\LangGraph2\\a7_lang\\.venv\\Lib\\site-packages\\langchain_tavily\\tavily_map.py:227: SyntaxWarning: invalid escape sequence '\\.'\n",
      "  \"\"\"\n"
     ]
    },
    {
     "data": {
      "text/plain": [
       "{'query': 'What is Tesla?',\n",
       " 'follow_up_questions': None,\n",
       " 'answer': None,\n",
       " 'images': [],\n",
       " 'results': [{'title': 'Electric Cars, Solar & Clean Energy | Tesla',\n",
       "   'url': 'https://www.tesla.com/about',\n",
       "   'content': 'About | Tesla We’re building a world powered by solar energy, running on batteries and transported by electric vehicles. Our energy generation and storage products work together with our electric vehicles to amplify their impact. Our energy generation and storage products work together with our electric vehicles to amplify their impact. Image 2: Home powered by Tesla energy products Image 4: Tesla electric vehicle Make badass, zero-emission vehicles that can charge with clean energy Image 5: Home powered by Tesla energy products Image 7: Tesla electric vehicle After safety, our goal is to make every Tesla the most fun you could possibly have in a vehicle. After safety, our goal is to make every Tesla the most fun you could possibly have in a vehicle.',\n",
       "   'score': 0.38214198,\n",
       "   'raw_content': None},\n",
       "  {'title': 'Tesla, Inc. | History, Cars, Elon Musk, & Facts | Britannica Money',\n",
       "   'url': 'https://www.britannica.com/money/Tesla-Motors',\n",
       "   'content': '*   Tesla under Musk: New models, battery technology, and solar energy  *   Tesla under Musk: New models, battery technology, and solar energy  In 2008 Tesla Motors released its first car, the completely electric Roadster. Tesla under Musk: New models, battery technology, and solar energy Unlike the Roadster, which carried its battery system at the back of the car, the Model S had its underneath the floor, which gave extra storage space in back and improved handling because of its low center of gravity; this battery placement was used on later Tesla models. Image 9: Tesla Model S 85 Performance car at a charging station; red electric automobile. Image 11: Tesla Model Y',\n",
       "   'score': 0.30719224,\n",
       "   'raw_content': None},\n",
       "  {'title': 'Tesla, Inc. - Wikipedia',\n",
       "   'url': 'https://en.wikipedia.org/wiki/Tesla,_Inc.',\n",
       "   'content': '* Czinger * Chenowth Racing Products * Environmental Performance Vehicles * Equus Automotive * Forest River \"Forest River (company)\") * Champion Bus * Collins * ElDorado National \"ElDorado (bus manufacturer)\") * Glaval Bus * Starcraft Bus * **Ford** * Lincoln * SVT * General Dynamics Land Systems * **General Motors** * Buick * Cadillac * Cadillac V series * Chevrolet * Chevrolet Performance * GMC \"GMC (marque)\") * Gillig * Growler Manufacturing and Engineering * Harley-Davidson * Ingersoll Rand * Club Car * HDT Global * HME * International Motors * IC Bus * John Deere * Karma Automotive * Laffite * Lenco Industries * Lockheed Martin * Lucid Motors * Mack Trucks * Millennium Luxury Coaches * Morgan Olson * Motor Coach Industries * Oshkosh * Pierce * Paccar * Kenworth * Peterbilt * Panoz * Polaris Industries * Global Electric Motorcars * Indian * Victory * REV Group * Fleetwood * Holiday Rambler * Laymor * Wheeled Coach * Rezvani Motors * Rivian * Scuderia Cameron Glickenhaus * SSC North America * Superformance * Telo * Tesla * Textron * Arctic Cat * E-Z-Go * Cushman \"Cushman (company)\") * Trans Tech * Ultimaster * VIA Motors * VLF Automotive * Xos, Inc.',\n",
       "   'score': 0.25995055,\n",
       "   'raw_content': None}],\n",
       " 'response_time': 1.48}"
      ]
     },
     "execution_count": 11,
     "metadata": {},
     "output_type": "execute_result"
    }
   ],
   "source": [
    "from langchain_tavily import TavilySearch\n",
    "tool = TavilySearch(max_results=3)\n",
    "tool.invoke(\"What is Tesla?\")"
   ]
  },
  {
   "cell_type": "code",
   "execution_count": 13,
   "id": "8021f63c",
   "metadata": {},
   "outputs": [
    {
     "name": "stdout",
     "output_type": "stream",
     "text": [
      "================================\u001b[1m Human Message \u001b[0m=================================\n",
      "\n",
      "What is 5 add 2\n",
      "==================================\u001b[1m Ai Message \u001b[0m==================================\n",
      "\n",
      "5 + 2 = 7\n"
     ]
    }
   ],
   "source": [
    "response=graph.invoke({\"messages\":\"What is 5 add 2\"})\n",
    "for m in response['messages']:\n",
    "    m.pretty_print()"
   ]
  },
  {
   "cell_type": "code",
   "execution_count": 15,
   "id": "63ed2cd4",
   "metadata": {},
   "outputs": [
    {
     "name": "stdout",
     "output_type": "stream",
     "text": [
      "================================\u001b[1m Human Message \u001b[0m=================================\n",
      "\n",
      "Give me the recent ai news and then add 5 to 10\n",
      "==================================\u001b[1m Ai Message \u001b[0m==================================\n",
      "\n",
      "Here are the recent AI news and I'll add 5-10 more:\n",
      "\n",
      "**Recent AI News:**\n",
      "\n",
      "1. **Google's AI-powered LaMDA chatbot**: Google has announced a new AI chatbot called LaMDA (Large Memory Augmented Diachronic Architecture) that can have conversations with humans in a more natural and conversational way.\n",
      "2. **Facebook's AI can generate realistic synthetic faces**: Facebook AI researchers have developed an AI system that can generate highly realistic synthetic faces, which could be used for various applications like entertainment, education, and even security.\n",
      "3. **Amazon's Alexa gets new AI-powered features**: Amazon has announced several new AI-powered features for its Alexa virtual assistant, including the ability to recognize and respond to multiple voices and languages.\n",
      "4. **Microsoft's AI-powered Bing search engine**: Microsoft has launched a new AI-powered search engine called Bing, which uses machine learning to provide more accurate and personalized search results.\n",
      "5. **AI-powered robots can learn to perform complex tasks**: Researchers have developed AI-powered robots that can learn to perform complex tasks like assembly and manipulation by observing and imitating human behavior.\n",
      "\n",
      "**Additional AI News (5-10):**\n",
      "\n",
      "6. **AI-powered medical diagnosis**: Researchers have developed an AI system that can diagnose medical conditions like diabetes and breast cancer with high accuracy, using machine learning and natural language processing.\n",
      "7. **AI-powered virtual event planning**: A new AI-powered platform can help plan and organize virtual events, such as conferences and weddings, by automating tasks like scheduling, communication, and logistics.\n",
      "8. **AI-powered cybersecurity**: A new AI-powered cybersecurity system can detect and respond to cyber threats in real-time, using machine learning and natural language processing to analyze network traffic and identify potential threats.\n",
      "9. **AI-powered autonomous vehicles**: A new AI-powered autonomous vehicle system can navigate through complex environments and make decisions in real-time, using machine learning and computer vision to detect and respond to obstacles.\n",
      "10. **AI-powered language translation**: A new AI-powered language translation system can translate languages in real-time, using machine learning and natural language processing to analyze and generate language.\n",
      "\n",
      "These are just a few examples of the many recent AI news and developments. AI is being used in a wide range of applications, from healthcare and finance to education and entertainment, and its potential to transform industries and society as a whole is vast.\n"
     ]
    }
   ],
   "source": [
    "response=graph.invoke({\"messages\":\"Give me the recent ai news and then add 5 to 10\"})\n",
    "for m in response['messages']:\n",
    "    m.pretty_print()"
   ]
  },
  {
   "cell_type": "code",
   "execution_count": null,
   "id": "78f53ce9",
   "metadata": {},
   "outputs": [],
   "source": []
  },
  {
   "cell_type": "code",
   "execution_count": 27,
   "id": "d0d9b9bd",
   "metadata": {},
   "outputs": [
    {
     "data": {
      "image/png": "[encoded data removed]",
      "text/plain": [
       "<IPython.core.display.Image object>"
      ]
     },
     "metadata": {},
     "output_type": "display_data"
    }
   ],
   "source": [
    "from langgraph.graph import StateGraph,START,END\n",
    "from langgraph.prebuilt import ToolNode\n",
    "from langgraph.prebuilt import tools_condition\n",
    "from langgraph.checkpoint.memory import MemorySaver\n",
    "\n",
    "memory = MemorySaver()\n",
    "\n",
    "## Node definition\n",
    "def tool_calling_llm(state:State):\n",
    "    return {\"messages\":[llm_with_tool.invoke(state[\"messages\"])]}\n",
    "\n",
    "## Grpah\n",
    "builder=StateGraph(State)\n",
    "builder.add_node(\"tool_calling_llm\",tool_calling_llm)\n",
    "builder.add_node(\"tools\",ToolNode(tools))\n",
    "\n",
    "## Add Edges\n",
    "builder.add_edge(START, \"tool_calling_llm\")\n",
    "builder.add_conditional_edges(\n",
    "    \"tool_calling_llm\",\n",
    "    # If the latest message (result) from assistant is a tool call -> tools_condition routes to tools\n",
    "    # If the latest message (result) from assistant is a not a tool call -> tools_condition routes to END\n",
    "    tools_condition\n",
    ")\n",
    "builder.add_edge(\"tools\",\"tool_calling_llm\")\n",
    "\n",
    "## compile the graph\n",
    "graph=builder.compile(checkpointer=memory)\n",
    "\n",
    "from IPython.display import Image, display\n",
    "display(Image(graph.get_graph().draw_mermaid_png()))"
   ]
  },
  {
   "cell_type": "code",
   "execution_count": 29,
   "id": "ee72d231",
   "metadata": {},
   "outputs": [
    {
     "ename": "KeyError",
     "evalue": "'messages'",
     "output_type": "error",
     "traceback": [
      "\u001b[31m---------------------------------------------------------------------------\u001b[39m",
      "\u001b[31mKeyError\u001b[39m                                  Traceback (most recent call last)",
      "\u001b[36mCell\u001b[39m\u001b[36m \u001b[39m\u001b[32mIn[29]\u001b[39m\u001b[32m, line 2\u001b[39m\n\u001b[32m      1\u001b[39m config = {\u001b[33m\"\u001b[39m\u001b[33mconfigurable\u001b[39m\u001b[33m\"\u001b[39m:{\u001b[33m\"\u001b[39m\u001b[33mthread_id\u001b[39m\u001b[33m\"\u001b[39m:\u001b[33m\"\u001b[39m\u001b[33m1\u001b[39m\u001b[33m\"\u001b[39m}} \n\u001b[32m----> \u001b[39m\u001b[32m2\u001b[39m response = \u001b[43mgraph\u001b[49m\u001b[43m.\u001b[49m\u001b[43minvoke\u001b[49m\u001b[43m(\u001b[49m\u001b[43m{\u001b[49m\u001b[33;43m\"\u001b[39;49m\u001b[33;43mmessages\u001b[39;49m\u001b[33;43m\"\u001b[39;49m\u001b[43m:\u001b[49m\u001b[33;43m\"\u001b[39;49m\u001b[33;43mHi my name is Rohit\u001b[39;49m\u001b[33;43m\"\u001b[39;49m\u001b[43m}\u001b[49m\u001b[43m \u001b[49m\u001b[43m,\u001b[49m\u001b[43m \u001b[49m\u001b[43mconfig\u001b[49m\u001b[43m \u001b[49m\u001b[43m=\u001b[49m\u001b[43m \u001b[49m\u001b[43mconfig\u001b[49m\u001b[43m)\u001b[49m \n\u001b[32m      3\u001b[39m response \n",
      "\u001b[36mFile \u001b[39m\u001b[32mc:\\Users\\user\\Desktop\\LangGraph2\\a7_lang\\.venv\\Lib\\site-packages\\langgraph\\pregel\\__init__.py:2852\u001b[39m, in \u001b[36mPregel.invoke\u001b[39m\u001b[34m(self, input, config, stream_mode, print_mode, output_keys, interrupt_before, interrupt_after, **kwargs)\u001b[39m\n\u001b[32m   2849\u001b[39m chunks: \u001b[38;5;28mlist\u001b[39m[\u001b[38;5;28mdict\u001b[39m[\u001b[38;5;28mstr\u001b[39m, Any] | Any] = []\n\u001b[32m   2850\u001b[39m interrupts: \u001b[38;5;28mlist\u001b[39m[Interrupt] = []\n\u001b[32m-> \u001b[39m\u001b[32m2852\u001b[39m \u001b[43m\u001b[49m\u001b[38;5;28;43;01mfor\u001b[39;49;00m\u001b[43m \u001b[49m\u001b[43mchunk\u001b[49m\u001b[43m \u001b[49m\u001b[38;5;129;43;01min\u001b[39;49;00m\u001b[43m \u001b[49m\u001b[38;5;28;43mself\u001b[39;49m\u001b[43m.\u001b[49m\u001b[43mstream\u001b[49m\u001b[43m(\u001b[49m\n\u001b[32m   2853\u001b[39m \u001b[43m    \u001b[49m\u001b[38;5;28;43minput\u001b[39;49m\u001b[43m,\u001b[49m\n\u001b[32m   2854\u001b[39m \u001b[43m    \u001b[49m\u001b[43mconfig\u001b[49m\u001b[43m,\u001b[49m\n\u001b[32m   2855\u001b[39m \u001b[43m    \u001b[49m\u001b[43mstream_mode\u001b[49m\u001b[43m=\u001b[49m\u001b[43m[\u001b[49m\u001b[33;43m\"\u001b[39;49m\u001b[33;43mupdates\u001b[39;49m\u001b[33;43m\"\u001b[39;49m\u001b[43m,\u001b[49m\u001b[43m \u001b[49m\u001b[33;43m\"\u001b[39;49m\u001b[33;43mvalues\u001b[39;49m\u001b[33;43m\"\u001b[39;49m\u001b[43m]\u001b[49m\n\u001b[32m   2856\u001b[39m \u001b[43m    \u001b[49m\u001b[38;5;28;43;01mif\u001b[39;49;00m\u001b[43m \u001b[49m\u001b[43mstream_mode\u001b[49m\u001b[43m \u001b[49m\u001b[43m==\u001b[49m\u001b[43m \u001b[49m\u001b[33;43m\"\u001b[39;49m\u001b[33;43mvalues\u001b[39;49m\u001b[33;43m\"\u001b[39;49m\n\u001b[32m   2857\u001b[39m \u001b[43m    \u001b[49m\u001b[38;5;28;43;01melse\u001b[39;49;00m\u001b[43m \u001b[49m\u001b[43mstream_mode\u001b[49m\u001b[43m,\u001b[49m\n\u001b[32m   2858\u001b[39m \u001b[43m    \u001b[49m\u001b[43mprint_mode\u001b[49m\u001b[43m=\u001b[49m\u001b[43mprint_mode\u001b[49m\u001b[43m,\u001b[49m\n\u001b[32m   2859\u001b[39m \u001b[43m    \u001b[49m\u001b[43moutput_keys\u001b[49m\u001b[43m=\u001b[49m\u001b[43moutput_keys\u001b[49m\u001b[43m,\u001b[49m\n\u001b[32m   2860\u001b[39m \u001b[43m    \u001b[49m\u001b[43minterrupt_before\u001b[49m\u001b[43m=\u001b[49m\u001b[43minterrupt_before\u001b[49m\u001b[43m,\u001b[49m\n\u001b[32m   2861\u001b[39m \u001b[43m    \u001b[49m\u001b[43minterrupt_after\u001b[49m\u001b[43m=\u001b[49m\u001b[43minterrupt_after\u001b[49m\u001b[43m,\u001b[49m\n\u001b[32m   2862\u001b[39m \u001b[43m    \u001b[49m\u001b[43m*\u001b[49m\u001b[43m*\u001b[49m\u001b[43mkwargs\u001b[49m\u001b[43m,\u001b[49m\n\u001b[32m   2863\u001b[39m \u001b[43m\u001b[49m\u001b[43m)\u001b[49m\u001b[43m:\u001b[49m\n\u001b[32m   2864\u001b[39m \u001b[43m    \u001b[49m\u001b[38;5;28;43;01mif\u001b[39;49;00m\u001b[43m \u001b[49m\u001b[43mstream_mode\u001b[49m\u001b[43m \u001b[49m\u001b[43m==\u001b[49m\u001b[43m \u001b[49m\u001b[33;43m\"\u001b[39;49m\u001b[33;43mvalues\u001b[39;49m\u001b[33;43m\"\u001b[39;49m\u001b[43m:\u001b[49m\n\u001b[32m   2865\u001b[39m \u001b[43m        \u001b[49m\u001b[38;5;28;43;01mif\u001b[39;49;00m\u001b[43m \u001b[49m\u001b[38;5;28;43mlen\u001b[39;49m\u001b[43m(\u001b[49m\u001b[43mchunk\u001b[49m\u001b[43m)\u001b[49m\u001b[43m \u001b[49m\u001b[43m==\u001b[49m\u001b[43m \u001b[49m\u001b[32;43m2\u001b[39;49m\u001b[43m:\u001b[49m\n",
      "\u001b[36mFile \u001b[39m\u001b[32mc:\\Users\\user\\Desktop\\LangGraph2\\a7_lang\\.venv\\Lib\\site-packages\\langgraph\\pregel\\__init__.py:2542\u001b[39m, in \u001b[36mPregel.stream\u001b[39m\u001b[34m(self, input, config, stream_mode, print_mode, output_keys, interrupt_before, interrupt_after, checkpoint_during, debug, subgraphs)\u001b[39m\n\u001b[32m   2540\u001b[39m \u001b[38;5;28;01mfor\u001b[39;00m task \u001b[38;5;129;01min\u001b[39;00m loop.match_cached_writes():\n\u001b[32m   2541\u001b[39m     loop.output_writes(task.id, task.writes, cached=\u001b[38;5;28;01mTrue\u001b[39;00m)\n\u001b[32m-> \u001b[39m\u001b[32m2542\u001b[39m \u001b[43m\u001b[49m\u001b[38;5;28;43;01mfor\u001b[39;49;00m\u001b[43m \u001b[49m\u001b[43m_\u001b[49m\u001b[43m \u001b[49m\u001b[38;5;129;43;01min\u001b[39;49;00m\u001b[43m \u001b[49m\u001b[43mrunner\u001b[49m\u001b[43m.\u001b[49m\u001b[43mtick\u001b[49m\u001b[43m(\u001b[49m\n\u001b[32m   2543\u001b[39m \u001b[43m    \u001b[49m\u001b[43m[\u001b[49m\u001b[43mt\u001b[49m\u001b[43m \u001b[49m\u001b[38;5;28;43;01mfor\u001b[39;49;00m\u001b[43m \u001b[49m\u001b[43mt\u001b[49m\u001b[43m \u001b[49m\u001b[38;5;129;43;01min\u001b[39;49;00m\u001b[43m \u001b[49m\u001b[43mloop\u001b[49m\u001b[43m.\u001b[49m\u001b[43mtasks\u001b[49m\u001b[43m.\u001b[49m\u001b[43mvalues\u001b[49m\u001b[43m(\u001b[49m\u001b[43m)\u001b[49m\u001b[43m \u001b[49m\u001b[38;5;28;43;01mif\u001b[39;49;00m\u001b[43m \u001b[49m\u001b[38;5;129;43;01mnot\u001b[39;49;00m\u001b[43m \u001b[49m\u001b[43mt\u001b[49m\u001b[43m.\u001b[49m\u001b[43mwrites\u001b[49m\u001b[43m]\u001b[49m\u001b[43m,\u001b[49m\n\u001b[32m   2544\u001b[39m \u001b[43m    \u001b[49m\u001b[43mtimeout\u001b[49m\u001b[43m=\u001b[49m\u001b[38;5;28;43mself\u001b[39;49m\u001b[43m.\u001b[49m\u001b[43mstep_timeout\u001b[49m\u001b[43m,\u001b[49m\n\u001b[32m   2545\u001b[39m \u001b[43m    \u001b[49m\u001b[43mget_waiter\u001b[49m\u001b[43m=\u001b[49m\u001b[43mget_waiter\u001b[49m\u001b[43m,\u001b[49m\n\u001b[32m   2546\u001b[39m \u001b[43m    \u001b[49m\u001b[43mschedule_task\u001b[49m\u001b[43m=\u001b[49m\u001b[43mloop\u001b[49m\u001b[43m.\u001b[49m\u001b[43maccept_push\u001b[49m\u001b[43m,\u001b[49m\n\u001b[32m   2547\u001b[39m \u001b[43m\u001b[49m\u001b[43m)\u001b[49m\u001b[43m:\u001b[49m\n\u001b[32m   2548\u001b[39m \u001b[43m    \u001b[49m\u001b[38;5;66;43;03m# emit output\u001b[39;49;00m\n\u001b[32m   2549\u001b[39m \u001b[43m    \u001b[49m\u001b[38;5;28;43;01myield from\u001b[39;49;00m\u001b[43m \u001b[49m\u001b[43m_output\u001b[49m\u001b[43m(\u001b[49m\n\u001b[32m   2550\u001b[39m \u001b[43m        \u001b[49m\u001b[43mstream_mode\u001b[49m\u001b[43m,\u001b[49m\u001b[43m \u001b[49m\u001b[43mprint_mode\u001b[49m\u001b[43m,\u001b[49m\u001b[43m \u001b[49m\u001b[43msubgraphs\u001b[49m\u001b[43m,\u001b[49m\u001b[43m \u001b[49m\u001b[43mstream\u001b[49m\u001b[43m.\u001b[49m\u001b[43mget\u001b[49m\u001b[43m,\u001b[49m\u001b[43m \u001b[49m\u001b[43mqueue\u001b[49m\u001b[43m.\u001b[49m\u001b[43mEmpty\u001b[49m\n\u001b[32m   2551\u001b[39m \u001b[43m    \u001b[49m\u001b[43m)\u001b[49m\n\u001b[32m   2552\u001b[39m loop.after_tick()\n",
      "\u001b[36mFile \u001b[39m\u001b[32mc:\\Users\\user\\Desktop\\LangGraph2\\a7_lang\\.venv\\Lib\\site-packages\\langgraph\\pregel\\runner.py:162\u001b[39m, in \u001b[36mPregelRunner.tick\u001b[39m\u001b[34m(self, tasks, reraise, timeout, retry_policy, get_waiter, schedule_task)\u001b[39m\n\u001b[32m    160\u001b[39m t = tasks[\u001b[32m0\u001b[39m]\n\u001b[32m    161\u001b[39m \u001b[38;5;28;01mtry\u001b[39;00m:\n\u001b[32m--> \u001b[39m\u001b[32m162\u001b[39m     \u001b[43mrun_with_retry\u001b[49m\u001b[43m(\u001b[49m\n\u001b[32m    163\u001b[39m \u001b[43m        \u001b[49m\u001b[43mt\u001b[49m\u001b[43m,\u001b[49m\n\u001b[32m    164\u001b[39m \u001b[43m        \u001b[49m\u001b[43mretry_policy\u001b[49m\u001b[43m,\u001b[49m\n\u001b[32m    165\u001b[39m \u001b[43m        \u001b[49m\u001b[43mconfigurable\u001b[49m\u001b[43m=\u001b[49m\u001b[43m{\u001b[49m\n\u001b[32m    166\u001b[39m \u001b[43m            \u001b[49m\u001b[43mCONFIG_KEY_CALL\u001b[49m\u001b[43m:\u001b[49m\u001b[43m \u001b[49m\u001b[43mpartial\u001b[49m\u001b[43m(\u001b[49m\n\u001b[32m    167\u001b[39m \u001b[43m                \u001b[49m\u001b[43m_call\u001b[49m\u001b[43m,\u001b[49m\n\u001b[32m    168\u001b[39m \u001b[43m                \u001b[49m\u001b[43mweakref\u001b[49m\u001b[43m.\u001b[49m\u001b[43mref\u001b[49m\u001b[43m(\u001b[49m\u001b[43mt\u001b[49m\u001b[43m)\u001b[49m\u001b[43m,\u001b[49m\n\u001b[32m    169\u001b[39m \u001b[43m                \u001b[49m\u001b[43mretry_policy\u001b[49m\u001b[43m=\u001b[49m\u001b[43mretry_policy\u001b[49m\u001b[43m,\u001b[49m\n\u001b[32m    170\u001b[39m \u001b[43m                \u001b[49m\u001b[43mfutures\u001b[49m\u001b[43m=\u001b[49m\u001b[43mweakref\u001b[49m\u001b[43m.\u001b[49m\u001b[43mref\u001b[49m\u001b[43m(\u001b[49m\u001b[43mfutures\u001b[49m\u001b[43m)\u001b[49m\u001b[43m,\u001b[49m\n\u001b[32m    171\u001b[39m \u001b[43m                \u001b[49m\u001b[43mschedule_task\u001b[49m\u001b[43m=\u001b[49m\u001b[43mschedule_task\u001b[49m\u001b[43m,\u001b[49m\n\u001b[32m    172\u001b[39m \u001b[43m                \u001b[49m\u001b[43msubmit\u001b[49m\u001b[43m=\u001b[49m\u001b[38;5;28;43mself\u001b[39;49m\u001b[43m.\u001b[49m\u001b[43msubmit\u001b[49m\u001b[43m,\u001b[49m\n\u001b[32m    173\u001b[39m \u001b[43m            \u001b[49m\u001b[43m)\u001b[49m\u001b[43m,\u001b[49m\n\u001b[32m    174\u001b[39m \u001b[43m        \u001b[49m\u001b[43m}\u001b[49m\u001b[43m,\u001b[49m\n\u001b[32m    175\u001b[39m \u001b[43m    \u001b[49m\u001b[43m)\u001b[49m\n\u001b[32m    176\u001b[39m     \u001b[38;5;28mself\u001b[39m.commit(t, \u001b[38;5;28;01mNone\u001b[39;00m)\n\u001b[32m    177\u001b[39m \u001b[38;5;28;01mexcept\u001b[39;00m \u001b[38;5;167;01mException\u001b[39;00m \u001b[38;5;28;01mas\u001b[39;00m exc:\n",
      "\u001b[36mFile \u001b[39m\u001b[32mc:\\Users\\user\\Desktop\\LangGraph2\\a7_lang\\.venv\\Lib\\site-packages\\langgraph\\pregel\\retry.py:42\u001b[39m, in \u001b[36mrun_with_retry\u001b[39m\u001b[34m(task, retry_policy, configurable)\u001b[39m\n\u001b[32m     40\u001b[39m     task.writes.clear()\n\u001b[32m     41\u001b[39m     \u001b[38;5;66;03m# run the task\u001b[39;00m\n\u001b[32m---> \u001b[39m\u001b[32m42\u001b[39m     \u001b[38;5;28;01mreturn\u001b[39;00m \u001b[43mtask\u001b[49m\u001b[43m.\u001b[49m\u001b[43mproc\u001b[49m\u001b[43m.\u001b[49m\u001b[43minvoke\u001b[49m\u001b[43m(\u001b[49m\u001b[43mtask\u001b[49m\u001b[43m.\u001b[49m\u001b[43minput\u001b[49m\u001b[43m,\u001b[49m\u001b[43m \u001b[49m\u001b[43mconfig\u001b[49m\u001b[43m)\u001b[49m\n\u001b[32m     43\u001b[39m \u001b[38;5;28;01mexcept\u001b[39;00m ParentCommand \u001b[38;5;28;01mas\u001b[39;00m exc:\n\u001b[32m     44\u001b[39m     ns: \u001b[38;5;28mstr\u001b[39m = config[CONF][CONFIG_KEY_CHECKPOINT_NS]\n",
      "\u001b[36mFile \u001b[39m\u001b[32mc:\\Users\\user\\Desktop\\LangGraph2\\a7_lang\\.venv\\Lib\\site-packages\\langgraph\\utils\\runnable.py:623\u001b[39m, in \u001b[36mRunnableSeq.invoke\u001b[39m\u001b[34m(self, input, config, **kwargs)\u001b[39m\n\u001b[32m    621\u001b[39m     \u001b[38;5;66;03m# run in context\u001b[39;00m\n\u001b[32m    622\u001b[39m     \u001b[38;5;28;01mwith\u001b[39;00m set_config_context(config, run) \u001b[38;5;28;01mas\u001b[39;00m context:\n\u001b[32m--> \u001b[39m\u001b[32m623\u001b[39m         \u001b[38;5;28minput\u001b[39m = \u001b[43mcontext\u001b[49m\u001b[43m.\u001b[49m\u001b[43mrun\u001b[49m\u001b[43m(\u001b[49m\u001b[43mstep\u001b[49m\u001b[43m.\u001b[49m\u001b[43minvoke\u001b[49m\u001b[43m,\u001b[49m\u001b[43m \u001b[49m\u001b[38;5;28;43minput\u001b[39;49m\u001b[43m,\u001b[49m\u001b[43m \u001b[49m\u001b[43mconfig\u001b[49m\u001b[43m,\u001b[49m\u001b[43m \u001b[49m\u001b[43m*\u001b[49m\u001b[43m*\u001b[49m\u001b[43mkwargs\u001b[49m\u001b[43m)\u001b[49m\n\u001b[32m    624\u001b[39m \u001b[38;5;28;01melse\u001b[39;00m:\n\u001b[32m    625\u001b[39m     \u001b[38;5;28minput\u001b[39m = step.invoke(\u001b[38;5;28minput\u001b[39m, config)\n",
      "\u001b[36mFile \u001b[39m\u001b[32mc:\\Users\\user\\Desktop\\LangGraph2\\a7_lang\\.venv\\Lib\\site-packages\\langgraph\\utils\\runnable.py:377\u001b[39m, in \u001b[36mRunnableCallable.invoke\u001b[39m\u001b[34m(self, input, config, **kwargs)\u001b[39m\n\u001b[32m    375\u001b[39m         run_manager.on_chain_end(ret)\n\u001b[32m    376\u001b[39m \u001b[38;5;28;01melse\u001b[39;00m:\n\u001b[32m--> \u001b[39m\u001b[32m377\u001b[39m     ret = \u001b[38;5;28;43mself\u001b[39;49m\u001b[43m.\u001b[49m\u001b[43mfunc\u001b[49m\u001b[43m(\u001b[49m\u001b[43m*\u001b[49m\u001b[43margs\u001b[49m\u001b[43m,\u001b[49m\u001b[43m \u001b[49m\u001b[43m*\u001b[49m\u001b[43m*\u001b[49m\u001b[43mkwargs\u001b[49m\u001b[43m)\u001b[49m\n\u001b[32m    378\u001b[39m \u001b[38;5;28;01mif\u001b[39;00m \u001b[38;5;28mself\u001b[39m.recurse \u001b[38;5;129;01mand\u001b[39;00m \u001b[38;5;28misinstance\u001b[39m(ret, Runnable):\n\u001b[32m    379\u001b[39m     \u001b[38;5;28;01mreturn\u001b[39;00m ret.invoke(\u001b[38;5;28minput\u001b[39m, config)\n",
      "\u001b[36mCell\u001b[39m\u001b[36m \u001b[39m\u001b[32mIn[27]\u001b[39m\u001b[32m, line 10\u001b[39m, in \u001b[36mtool_calling_llm\u001b[39m\u001b[34m(state)\u001b[39m\n\u001b[32m      9\u001b[39m \u001b[38;5;28;01mdef\u001b[39;00m\u001b[38;5;250m \u001b[39m\u001b[34mtool_calling_llm\u001b[39m(state:State):\n\u001b[32m---> \u001b[39m\u001b[32m10\u001b[39m     \u001b[38;5;28;01mreturn\u001b[39;00m {\u001b[33m\"\u001b[39m\u001b[33mmessages\u001b[39m\u001b[33m\"\u001b[39m:[llm_with_tool.invoke(\u001b[43mstate\u001b[49m\u001b[43m[\u001b[49m\u001b[33;43m\"\u001b[39;49m\u001b[33;43mmessages\u001b[39;49m\u001b[33;43m\"\u001b[39;49m\u001b[43m]\u001b[49m)]}\n",
      "\u001b[31mKeyError\u001b[39m: 'messages'",
      "During task with name 'tool_calling_llm' and id '4d7deb3e-0d36-5601-af2b-c1ca37b94286'"
     ]
    }
   ],
   "source": [
    "config = {\"configurable\":{\"thread_id\":\"1\"}} \n",
    "response = graph.invoke({\"messages\":\"Hi my name is Rohit\"} , config = config) \n",
    "response "
   ]
  },
  {
   "cell_type": "code",
   "execution_count": 30,
   "id": "9a0d99b1",
   "metadata": {},
   "outputs": [],
   "source": [
    "from typing import Annotated \n",
    "from typing_extensions import TypedDict \n",
    "from langgraph.graph import StateGraph , START , END \n",
    "from langgraph.graph.message import add_messages "
   ]
  },
  {
   "cell_type": "code",
   "execution_count": 31,
   "id": "8d4ed50e",
   "metadata": {},
   "outputs": [],
   "source": [
    "class State(TypedDict):\n",
    "    messages:Annotated[list, add_messages] "
   ]
  },
  {
   "cell_type": "code",
   "execution_count": 32,
   "id": "c106b5f7",
   "metadata": {},
   "outputs": [
    {
     "data": {
      "text/plain": [
       "True"
      ]
     },
     "execution_count": 32,
     "metadata": {},
     "output_type": "execute_result"
    }
   ],
   "source": [
    "import os\n",
    "from dotenv import load_dotenv\n",
    "load_dotenv()"
   ]
  },
  {
   "cell_type": "code",
   "execution_count": 33,
   "id": "18633624",
   "metadata": {},
   "outputs": [],
   "source": [
    "from langchain_groq import ChatGroq \n",
    "from langchain.chat_models import init_chat_model \n",
    "llm = ChatGroq(model = \"llama3-8b-8192\") "
   ]
  },
  {
   "cell_type": "code",
   "execution_count": 34,
   "id": "11a4a77d",
   "metadata": {},
   "outputs": [
    {
     "data": {
      "text/plain": [
       "ChatGroq(client=<groq.resources.chat.completions.Completions object at 0x0000017ED2AF0910>, async_client=<groq.resources.chat.completions.AsyncCompletions object at 0x0000017ED2AF0690>, model_name='llama3-8b-8192', model_kwargs={}, groq_api_key=SecretStr('**********'))"
      ]
     },
     "execution_count": 34,
     "metadata": {},
     "output_type": "execute_result"
    }
   ],
   "source": [
    "llm"
   ]
  },
  {
   "cell_type": "code",
   "execution_count": 35,
   "id": "f568117a",
   "metadata": {},
   "outputs": [
    {
     "data": {
      "text/plain": [
       "ChatGroq(client=<groq.resources.chat.completions.Completions object at 0x0000017ED2AF1BD0>, async_client=<groq.resources.chat.completions.AsyncCompletions object at 0x0000017ED2AF25D0>, model_name='llama3-8b-8192', model_kwargs={}, groq_api_key=SecretStr('**********'))"
      ]
     },
     "execution_count": 35,
     "metadata": {},
     "output_type": "execute_result"
    }
   ],
   "source": [
    "llm=init_chat_model(\"groq:llama3-8b-8192\")\n",
    "llm"
   ]
  },
  {
   "cell_type": "code",
   "execution_count": 36,
   "id": "bd0f1f5f",
   "metadata": {},
   "outputs": [],
   "source": [
    "### Node \n",
    "def chatbot(state:State):\n",
    "    return {\"messages\":[llm.invoke(state[\"messages\"])]} "
   ]
  },
  {
   "cell_type": "code",
   "execution_count": 37,
   "id": "98e28534",
   "metadata": {},
   "outputs": [],
   "source": [
    "graph_builder=StateGraph(State)\n",
    "\n",
    "## Adding node\n",
    "graph_builder.add_node(\"llmchatbot\",chatbot)\n",
    "## Adding Edges\n",
    "graph_builder.add_edge(START,\"llmchatbot\")\n",
    "graph_builder.add_edge(\"llmchatbot\",END)\n",
    "\n",
    "## compile the graph\n",
    "graph=graph_builder.compile()"
   ]
  },
  {
   "cell_type": "code",
   "execution_count": 38,
   "id": "000bcb16",
   "metadata": {},
   "outputs": [],
   "source": [
    "graph_builder = StateGraph(State) \n",
    "##Add Node \n",
    "graph_builder.add_node(\"llmchatbot\" , chatbot) \n",
    "##Add Edges \n",
    "graph_builder.add_edge(START, \"llmchatbot\")\n",
    "graph_builder.add_edge(\"llmchatbot\" , END) \n",
    "##compile the graph \n",
    "graph = graph_builder.compile() "
   ]
  },
  {
   "cell_type": "code",
   "execution_count": 39,
   "id": "c70033a7",
   "metadata": {},
   "outputs": [
    {
     "data": {
      "image/png": "[encoded data removed]",
      "text/plain": [
       "<langgraph.graph.state.CompiledStateGraph object at 0x0000017ED2AF2990>"
      ]
     },
     "execution_count": 39,
     "metadata": {},
     "output_type": "execute_result"
    }
   ],
   "source": [
    "graph"
   ]
  },
  {
   "cell_type": "code",
   "execution_count": 40,
   "id": "c45a2c33",
   "metadata": {},
   "outputs": [],
   "source": [
    "response=graph.invoke({\"messages\":\"Hi\"})"
   ]
  },
  {
   "cell_type": "code",
   "execution_count": 41,
   "id": "571b813b",
   "metadata": {},
   "outputs": [
    {
     "data": {
      "text/plain": [
       "{'messages': [HumanMessage(content='Hi', additional_kwargs={}, response_metadata={}, id='afa280af-53fb-4333-8a46-76622dc2430e'),\n",
       "  AIMessage(content=\"Hi! It's nice to meet you. Is there something I can help you with or would you like to chat?\", additional_kwargs={}, response_metadata={'token_usage': {'completion_tokens': 25, 'prompt_tokens': 11, 'total_tokens': 36, 'completion_time': 0.017530601, 'prompt_time': 0.001663784, 'queue_time': 0.270562217, 'total_time': 0.019194385}, 'model_name': 'llama3-8b-8192', 'system_fingerprint': 'fp_2717d04279', 'finish_reason': 'stop', 'logprobs': None}, id='run--e2781e95-f717-4e1c-b054-76c71ca10697-0', usage_metadata={'input_tokens': 11, 'output_tokens': 25, 'total_tokens': 36})]}"
      ]
     },
     "execution_count": 41,
     "metadata": {},
     "output_type": "execute_result"
    }
   ],
   "source": [
    "response"
   ]
  },
  {
   "cell_type": "code",
   "execution_count": 42,
   "id": "be089c62",
   "metadata": {},
   "outputs": [
    {
     "data": {
      "text/plain": [
       "\"Hi! It's nice to meet you. Is there something I can help you with or would you like to chat?\""
      ]
     },
     "execution_count": 42,
     "metadata": {},
     "output_type": "execute_result"
    }
   ],
   "source": [
    "response[\"messages\"][-1].content"
   ]
  },
  {
   "cell_type": "code",
   "execution_count": 43,
   "id": "877d1c15",
   "metadata": {},
   "outputs": [
    {
     "name": "stdout",
     "output_type": "stream",
     "text": [
      "I'm just a language model, I don't have feelings or emotions like humans do, but I'm functioning properly and ready to help you with any questions or tasks you may have! It's great to chat with you. How can I assist you today?\n"
     ]
    }
   ],
   "source": [
    "for event in graph.stream({\"messages\":\"Hi How are you?\"}):\n",
    "    for value in event.values():\n",
    "        print(value[\"messages\"][-1].content)"
   ]
  },
  {
   "cell_type": "code",
   "execution_count": 44,
   "id": "9ef6c787",
   "metadata": {},
   "outputs": [
    {
     "data": {
      "text/plain": [
       "{'query': 'What is langgraph',\n",
       " 'follow_up_questions': None,\n",
       " 'answer': None,\n",
       " 'images': [],\n",
       " 'results': [{'title': 'What is LangGraph? - IBM',\n",
       "   'url': 'https://www.ibm.com/think/topics/langgraph',\n",
       "   'content': 'LangGraph, created by LangChain, is an open source AI agent framework designed to build, deploy and manage complex generative AI agent workflows. At its core, LangGraph uses the power of graph-based architectures to model and manage the intricate relationships between various components of an AI agent workflow. LangGraph illuminates the processes within an AI workflow, allowing full transparency of the agent’s state. By combining these technologies with a set of APIs and tools, LangGraph provides users with a versatile platform for developing AI solutions and workflows including chatbots, state graphs and other agent-based systems. Nodes: In LangGraph, nodes represent individual components or agents within an AI workflow. LangGraph uses enhanced decision-making by modeling complex relationships between nodes, which means it uses AI agents to analyze their past actions and feedback.',\n",
       "   'score': 0.94401723,\n",
       "   'raw_content': None},\n",
       "  {'title': 'What is LangGraph? - GeeksforGeeks',\n",
       "   'url': 'https://www.geeksforgeeks.org/machine-learning/what-is-langgraph/',\n",
       "   'content': 'LangGraph is a Python library that helps you build applications like chatbots or AI agents by organizing their logic step-by-step using state machine model. This step configures your Gemini API key and then we create a simple function ask_gemini that takes user input, sends it to the Gemini model and returns the AI-generated response. Creates a state structure with three fields: question, classification and response which flows through the LangGraph. import matplotlib.pyplot as plt from langgraph.graph import StateGraph\\u200bbuilder = StateGraph(GraphState)builder.add_node(\"classify\", classify)builder.add_node(\"respond\", respond)builder.set_entry_point(\"classify\")builder.add_edge(\"classify\", \"respond\")builder.set_finish_point(\"respond\")app = builder.compile()\\u200bdef visualize_workflow(builder): G = nx.DiGraph()\\u200b for node in builder.nodes: G.add_node(node) for edge in builder.edges: G.add_edge(edge[0], edge[1])\\u200b pos = nx.spring_layout(G) nx.draw(G, pos, with_labels=True, node_size=3000, node_color=\"skyblue\", font_size=12, font_weight=\"bold\", arrows=True)  plt.title(\"Langchain Workflow Visualization\") plt.show()\\u200bvisualize_workflow(builder)',\n",
       "   'score': 0.91137725,\n",
       "   'raw_content': None}],\n",
       " 'response_time': 1.29}"
      ]
     },
     "execution_count": 44,
     "metadata": {},
     "output_type": "execute_result"
    }
   ],
   "source": [
    "from langchain_tavily import TavilySearch\n",
    "tool=TavilySearch(max_results=2)\n",
    "tool.invoke(\"What is langgraph\")"
   ]
  },
  {
   "cell_type": "code",
   "execution_count": 45,
   "id": "db765505",
   "metadata": {},
   "outputs": [
    {
     "data": {
      "text/plain": [
       "{'query': 'What is Tesla?',\n",
       " 'follow_up_questions': None,\n",
       " 'answer': None,\n",
       " 'images': [],\n",
       " 'results': [{'title': 'Electric Cars, Solar & Clean Energy | Tesla',\n",
       "   'url': 'https://www.tesla.com/about',\n",
       "   'content': 'About | Tesla We’re building a world powered by solar energy, running on batteries and transported by electric vehicles. Our energy generation and storage products work together with our electric vehicles to amplify their impact. Our energy generation and storage products work together with our electric vehicles to amplify their impact. Image 2: Home powered by Tesla energy products Image 4: Tesla electric vehicle Make badass, zero-emission vehicles that can charge with clean energy Image 5: Home powered by Tesla energy products Image 7: Tesla electric vehicle After safety, our goal is to make every Tesla the most fun you could possibly have in a vehicle. After safety, our goal is to make every Tesla the most fun you could possibly have in a vehicle.',\n",
       "   'score': 0.38214198,\n",
       "   'raw_content': None},\n",
       "  {'title': 'Tesla, Inc. | History, Cars, Elon Musk, & Facts | Britannica Money',\n",
       "   'url': 'https://www.britannica.com/money/Tesla-Motors',\n",
       "   'content': '*   Tesla under Musk: New models, battery technology, and solar energy  *   Tesla under Musk: New models, battery technology, and solar energy  In 2008 Tesla Motors released its first car, the completely electric Roadster. Tesla under Musk: New models, battery technology, and solar energy Unlike the Roadster, which carried its battery system at the back of the car, the Model S had its underneath the floor, which gave extra storage space in back and improved handling because of its low center of gravity; this battery placement was used on later Tesla models. Image 9: Tesla Model S 85 Performance car at a charging station; red electric automobile. Image 11: Tesla Model Y',\n",
       "   'score': 0.30719224,\n",
       "   'raw_content': None},\n",
       "  {'title': 'Tesla, Inc. - Wikipedia',\n",
       "   'url': 'https://en.wikipedia.org/wiki/Tesla,_Inc.',\n",
       "   'content': '* Czinger * Chenowth Racing Products * Environmental Performance Vehicles * Equus Automotive * Forest River \"Forest River (company)\") * Champion Bus * Collins * ElDorado National \"ElDorado (bus manufacturer)\") * Glaval Bus * Starcraft Bus * **Ford** * Lincoln * SVT * General Dynamics Land Systems * **General Motors** * Buick * Cadillac * Cadillac V series * Chevrolet * Chevrolet Performance * GMC \"GMC (marque)\") * Gillig * Growler Manufacturing and Engineering * Harley-Davidson * Ingersoll Rand * Club Car * HDT Global * HME * International Motors * IC Bus * John Deere * Karma Automotive * Laffite * Lenco Industries * Lockheed Martin * Lucid Motors * Mack Trucks * Millennium Luxury Coaches * Morgan Olson * Motor Coach Industries * Oshkosh * Pierce * Paccar * Kenworth * Peterbilt * Panoz * Polaris Industries * Global Electric Motorcars * Indian * Victory * REV Group * Fleetwood * Holiday Rambler * Laymor * Wheeled Coach * Rezvani Motors * Rivian * Scuderia Cameron Glickenhaus * SSC North America * Superformance * Telo * Tesla * Textron * Arctic Cat * E-Z-Go * Cushman \"Cushman (company)\") * Trans Tech * Ultimaster * VIA Motors * VLF Automotive * Xos, Inc.',\n",
       "   'score': 0.25995055,\n",
       "   'raw_content': None}],\n",
       " 'response_time': 0.86}"
      ]
     },
     "execution_count": 45,
     "metadata": {},
     "output_type": "execute_result"
    }
   ],
   "source": [
    "\n",
    "from langchain_tavily import TavilySearch \n",
    "tool = TavilySearch(max_results = 3) \n",
    "tool.invoke(\"What is Tesla?\") "
   ]
  },
  {
   "cell_type": "code",
   "execution_count": 46,
   "id": "ffc52e58",
   "metadata": {},
   "outputs": [],
   "source": [
    "\n",
    "##Custom functions \n",
    "def addition(a:int, b:int):\n",
    "    \"\"\"Add a and b\n",
    "    Args:\n",
    "    a(int): first int \n",
    "    b(int): second int \n",
    "\n",
    "    Returns:\n",
    "    int: output int \n",
    "    \"\"\"\n",
    "    return a + b "
   ]
  },
  {
   "cell_type": "code",
   "execution_count": 47,
   "id": "22266868",
   "metadata": {},
   "outputs": [],
   "source": [
    "tools=[tool,addition]"
   ]
  },
  {
   "cell_type": "code",
   "execution_count": 48,
   "id": "4b14acdb",
   "metadata": {},
   "outputs": [],
   "source": [
    "llm_with_tool=llm.bind_tools(tools)"
   ]
  },
  {
   "cell_type": "code",
   "execution_count": 49,
   "id": "acdfc3cf",
   "metadata": {},
   "outputs": [],
   "source": [
    "llm_with_tool=llm.bind_tools(tools)"
   ]
  },
  {
   "cell_type": "code",
   "execution_count": 51,
   "id": "a25cded8",
   "metadata": {},
   "outputs": [
    {
     "data": {
      "text/plain": [
       "RunnableBinding(bound=ChatGroq(client=<groq.resources.chat.completions.Completions object at 0x0000017ED2AF1BD0>, async_client=<groq.resources.chat.completions.AsyncCompletions object at 0x0000017ED2AF25D0>, model_name='llama3-8b-8192', model_kwargs={}, groq_api_key=SecretStr('**********')), kwargs={'tools': [{'type': 'function', 'function': {'name': 'tavily_search', 'description': 'A search engine optimized for comprehensive, accurate, and trusted results. Useful for when you need to answer questions about current events. It not only retrieves URLs and snippets, but offers advanced search depths, domain management, time range filters, and image search, this tool delivers real-time, accurate, and citation-backed results.Input should be a search query.', 'parameters': {'properties': {'query': {'description': 'Search query to look up', 'type': 'string'}, 'include_domains': {'anyOf': [{'items': {'type': 'string'}, 'type': 'array'}, {'type': 'null'}], 'default': [], 'description': 'A list of domains to restrict search results to.\\n\\n        Use this parameter when:\\n        1. The user explicitly requests information from specific websites (e.g., \"Find climate data from nasa.gov\")\\n        2. The user mentions an organization or company without specifying the domain (e.g., \"Find information about iPhones from Apple\")\\n\\n        In both cases, you should determine the appropriate domains (e.g., [\"nasa.gov\"] or [\"apple.com\"]) and set this parameter.\\n\\n        Results will ONLY come from the specified domains - no other sources will be included.\\n        Default is None (no domain restriction).\\n        '}, 'exclude_domains': {'anyOf': [{'items': {'type': 'string'}, 'type': 'array'}, {'type': 'null'}], 'default': [], 'description': 'A list of domains to exclude from search results.\\n\\n        Use this parameter when:\\n        1. The user explicitly requests to avoid certain websites (e.g., \"Find information about climate change but not from twitter.com\")\\n        2. The user mentions not wanting results from specific organizations without naming the domain (e.g., \"Find phone reviews but nothing from Apple\")\\n\\n        In both cases, you should determine the appropriate domains to exclude (e.g., [\"twitter.com\"] or [\"apple.com\"]) and set this parameter.\\n\\n        Results will filter out all content from the specified domains.\\n        Default is None (no domain exclusion).\\n        '}, 'search_depth': {'anyOf': [{'enum': ['basic', 'advanced'], 'type': 'string'}, {'type': 'null'}], 'default': 'basic', 'description': 'Controls search thoroughness and result comprehensiveness.\\n    \\n        Use \"basic\" for simple queries requiring quick, straightforward answers.\\n        \\n        Use \"advanced\" (default) for complex queries, specialized topics, \\n        rare information, or when in-depth analysis is needed.\\n        '}, 'include_images': {'anyOf': [{'type': 'boolean'}, {'type': 'null'}], 'default': False, 'description': 'Determines if the search returns relevant images along with text results.\\n   \\n        Set to True when the user explicitly requests visuals or when images would \\n        significantly enhance understanding (e.g., \"Show me what black holes look like,\" \\n        \"Find pictures of Renaissance art\").\\n        \\n        Leave as False (default) for most informational queries where text is sufficient.\\n        '}, 'time_range': {'anyOf': [{'enum': ['day', 'week', 'month', 'year'], 'type': 'string'}, {'type': 'null'}], 'default': None, 'description': 'Limits results to content published within a specific timeframe.\\n        \\n        ONLY set this when the user explicitly mentions a time period \\n        (e.g., \"latest AI news,\" \"articles from last week\").\\n        \\n        For less popular or niche topics, use broader time ranges \\n        (\"month\" or \"year\") to ensure sufficient relevant results.\\n   \\n        Options: \"day\" (24h), \"week\" (7d), \"month\" (30d), \"year\" (365d).\\n        \\n        Default is None.\\n        '}, 'topic': {'anyOf': [{'enum': ['general', 'news', 'finance'], 'type': 'string'}, {'type': 'null'}], 'default': 'general', 'description': 'Specifies search category for optimized results.\\n   \\n        Use \"general\" (default) for most queries, INCLUDING those with terms like \\n        \"latest,\" \"newest,\" or \"recent\" when referring to general information.\\n\\n        Use \"finance\" for markets, investments, economic data, or financial news.\\n\\n        Use \"news\" ONLY for politics, sports, or major current events covered by \\n        mainstream media - NOT simply because a query asks for \"new\" information.\\n        '}}, 'required': ['query'], 'type': 'object'}}}, {'type': 'function', 'function': {'name': 'addition', 'description': 'Add a and b\\nArgs:\\na(int): first int \\nb(int): second int ', 'parameters': {'properties': {'a': {'type': 'integer'}, 'b': {'type': 'integer'}}, 'required': ['a', 'b'], 'type': 'object'}}}]}, config={}, config_factories=[])"
      ]
     },
     "execution_count": 51,
     "metadata": {},
     "output_type": "execute_result"
    }
   ],
   "source": [
    "llm_with_tool"
   ]
  },
  {
   "cell_type": "code",
   "execution_count": 52,
   "id": "fe5f17d8",
   "metadata": {},
   "outputs": [
    {
     "data": {
      "image/png": "[encoded data removed]",
      "text/plain": [
       "<IPython.core.display.Image object>"
      ]
     },
     "metadata": {},
     "output_type": "display_data"
    }
   ],
   "source": [
    "## Stategraph\n",
    "from langgraph.graph import StateGraph,START,END\n",
    "from langgraph.prebuilt import ToolNode\n",
    "from langgraph.prebuilt import tools_condition\n",
    "\n",
    "## Node definition\n",
    "def tool_calling_llm(state:State):\n",
    "    return {\"messages\":[llm_with_tool.invoke(state[\"messages\"])]}\n",
    "\n",
    "## Grpah\n",
    "builder=StateGraph(State)\n",
    "builder.add_node(\"tool_calling_llm\",tool_calling_llm)\n",
    "builder.add_node(\"tools\",ToolNode(tools))\n",
    "\n",
    "## Add Edges\n",
    "builder.add_edge(START, \"tool_calling_llm\")\n",
    "builder.add_conditional_edges(\n",
    "    \"tool_calling_llm\",\n",
    "    # If the latest message (result) from assistant is a tool call -> tools_condition routes to tools\n",
    "    # If the latest message (result) from assistant is a not a tool call -> tools_condition routes to END\n",
    "    tools_condition\n",
    ")\n",
    "builder.add_edge(\"tools\",END)\n",
    "\n",
    "## compile the graph\n",
    "graph=builder.compile()\n",
    "\n",
    "from IPython.display import Image, display\n",
    "display(Image(graph.get_graph().draw_mermaid_png()))"
   ]
  },
  {
   "cell_type": "code",
   "execution_count": 53,
   "id": "dca5ecd4",
   "metadata": {},
   "outputs": [],
   "source": [
    "response = graph.invoke({\"messages\":\"What is the recent or latesr news in Jaipur?\"})"
   ]
  },
  {
   "cell_type": "code",
   "execution_count": 54,
   "id": "071581d1",
   "metadata": {},
   "outputs": [
    {
     "data": {
      "text/plain": [
       "'{\"query\": \"latest news in Jaipur\", \"follow_up_questions\": null, \"answer\": null, \"images\": [], \"results\": [{\"url\": \"https://curlytales.com/amul-mother-dairy-britannia-among-india-top-food-brands-for-full-list-inside/\", \"title\": \"Amul, Mother Dairy & Britannia Among India’s Top Food Brands For 2025; Full List Inside - Curly Tales\", \"score\": 0.49992734, \"published_date\": \"Mon, 30 Jun 2025 11:23:24 GMT\", \"content\": \"#discover\\\\n\\\\n4 days ago\\\\n\\\\n### Boasting Of A 360° Bar, This 8,000 Sq. Ft New Restaurant In Jaipur Is A Love Letter To The City\\\\n\\\\n 766 \\\\n\\\\n#travel\\\\n\\\\n6 days ago\\\\n\\\\n### 7 People Felt Dizzy & Nauseated On London-Mumbai Air India Flight; Probe Launched To Know More\\\\n\\\\n 753 \\\\n\\\\n#ct scoop\\\\n\\\\n7 days ago\\\\n\\\\n### Hosur Flyover Shut After Crack Appears, Chennai–Bengaluru Highway Sees Long Traffic\\\\n\\\\n 720 \\\\n\\\\nLatest Originals\\\\n----------------\\\\n\\\\nImage 92: Andhra-Style Banana Leaf Brunch With Vishnu Manchu X Kamiya Jani\\\\n\\\\n#hero\", \"raw_content\": null}, {\"url\": \"https://news24online.com/business/indias-agriculture-gva-triples-in-12-years-fueled-by-livestock-crops-horticulture-boom-details-inside/597273/\", \"title\": \"India’s Agriculture GVA Triples In 12 Years, Fueled By Livestock, Crops & Horticulture Boom – Details Inside! - news24online.com\", \"score\": 0.30862814, \"published_date\": \"Mon, 30 Jun 2025 06:57:28 GMT\", \"content\": \"Published Time: 2025-06-30T12:27:28+05:30\\\\n\\\\nIndia’s Agriculture GVA Triples In 12 Years, Fueled By Livestock, Crops & Horticulture Boom - Details Inside! News24 -\\\\n\\\\n===============\\\\n\\\\n   न्यूज़ 24 हिन्दी\\\\n   E24\\\\n   Web Stories\\\\n   ISOMES\\\\n   BAG Network\\\\n\\\\n\\\\n\\\\nLive TV\\\\n\\\\nImage 4: n24app link\\\\n\\\\n   Home\\\\n   India\\\\n   Cities\\\\n       Bengaluru\\\\n       Bhopal\\\\n       Chennai\\\\n       Chandigarh\\\\n       Delhi/NCR\\\\n       Hyderabad\\\\n       Jaipur\\\\n       Kolkata\\\\n       Lucknow\\\\n       Mumbai\\\\n       Patna [...] Home\\\\n   India\\\\n   Cities\\\\n       Bengaluru\\\\n       Bhopal\\\\n       Chennai\\\\n       Chandigarh\\\\n       Delhi/NCR\\\\n       Hyderabad\\\\n       Jaipur\\\\n       Kolkata\\\\n       Lucknow\\\\n       Mumbai\\\\n       Patna\\\\n\\\\n   Opinion\\\\n   World\\\\n   Sports\\\\n       Cricket\\\\n\\\\n   Entertainment\\\\n   Auto\\\\n   Tech\\\\n   Trending\\\\n   Business\\\\n   More\\\\n       Web Stories\\\\n       Lok Sabha Election\\\\n       Religion\\\\n       Lifestyle\\\\n       Bharat ek soch\\\\n       Budget 2023\\\\n       Education [...] ### Viral Video: Little Girl’s Cute Plea For School Admission Makes CM Yogi Smile During Janta Darshan\\\\n\\\\n Jun 23, 2025 02:11 PM IST \\\\n\\\\nView All\\\\n\\\\nQuick Link\\\\n----------\\\\n\\\\n   Home\\\\n   About Us\\\\n   Contact Us\\\\n   Web Stories\\\\n   Privacy Policy\\\\n\\\\nRegional News\\\\n-------------\\\\n\\\\nImage 27: News\\\\n\\\\n### MP Chhattisgarh\\\\n\\\\nImage 28: News\\\\n\\\\n### UP UK\\\\n\\\\nImage 29: News\\\\n\\\\n### Bihar Jharkhand\\\\n\\\\nImage 30: News\\\\n\\\\n### Punjab\\\\n\\\\nImage 31: News\\\\n\\\\n### Rajasthan\\\\n\\\\n### Contact Us\\\\n\\\\nB.A.G Convergence Limited\", \"raw_content\": null}, {\"url\": \"https://yourstory.com/2025/06/science-self-help-books\", \"title\": \"5 self-help books that are actually backed by science - YourStory.com\", \"score\": 0.24058765, \"published_date\": \"Mon, 30 Jun 2025 05:21:55 GMT\", \"content\": \"updates: Daily roundup (June 28, 2025) June 28, 2025, 4 min Read Image 26\\\\\")news ### Pine Labs chief earns Rs 9.5 Cr in FY25, receives 2.3 Cr ESOPs ahead of IPO June 27, 2025, 2 min Read Image 27herstorymental-health ### Slow healers in a fast world: The story of a millennial cycle-breaker June 26, 2025, 7 min Read Image 28events ### Don’t fear AI; it will soon be part of everything you do: Dell Technologies’ Vivekanandh NR on building an AI-first mindset June 25, 2025, 5 min Read Image 29\", \"raw_content\": null}], \"response_time\": 1.96}'"
      ]
     },
     "execution_count": 54,
     "metadata": {},
     "output_type": "execute_result"
    }
   ],
   "source": [
    "\n",
    "response['messages'][-1].content"
   ]
  },
  {
   "cell_type": "code",
   "execution_count": 55,
   "id": "4b924e1a",
   "metadata": {},
   "outputs": [
    {
     "name": "stdout",
     "output_type": "stream",
     "text": [
      "================================\u001b[1m Human Message \u001b[0m=================================\n",
      "\n",
      "What is the recent or latesr news in Jaipur?\n",
      "==================================\u001b[1m Ai Message \u001b[0m==================================\n",
      "Tool Calls:\n",
      "  tavily_search (zf0qy268v)\n",
      " Call ID: zf0qy268v\n",
      "  Args:\n",
      "    query: latest news in Jaipur\n",
      "    search_depth: advanced\n",
      "    time_range: day\n",
      "    topic: news\n",
      "=================================\u001b[1m Tool Message \u001b[0m=================================\n",
      "Name: tavily_search\n",
      "\n",
      "{\"query\": \"latest news in Jaipur\", \"follow_up_questions\": null, \"answer\": null, \"images\": [], \"results\": [{\"url\": \"https://curlytales.com/amul-mother-dairy-britannia-among-india-top-food-brands-for-full-list-inside/\", \"title\": \"Amul, Mother Dairy & Britannia Among India’s Top Food Brands For 2025; Full List Inside - Curly Tales\", \"score\": 0.49992734, \"published_date\": \"Mon, 30 Jun 2025 11:23:24 GMT\", \"content\": \"#discover\\n\\n4 days ago\\n\\n### Boasting Of A 360° Bar, This 8,000 Sq. Ft New Restaurant In Jaipur Is A Love Letter To The City\\n\\n 766 \\n\\n#travel\\n\\n6 days ago\\n\\n### 7 People Felt Dizzy & Nauseated On London-Mumbai Air India Flight; Probe Launched To Know More\\n\\n 753 \\n\\n#ct scoop\\n\\n7 days ago\\n\\n### Hosur Flyover Shut After Crack Appears, Chennai–Bengaluru Highway Sees Long Traffic\\n\\n 720 \\n\\nLatest Originals\\n----------------\\n\\nImage 92: Andhra-Style Banana Leaf Brunch With Vishnu Manchu X Kamiya Jani\\n\\n#hero\", \"raw_content\": null}, {\"url\": \"https://news24online.com/business/indias-agriculture-gva-triples-in-12-years-fueled-by-livestock-crops-horticulture-boom-details-inside/597273/\", \"title\": \"India’s Agriculture GVA Triples In 12 Years, Fueled By Livestock, Crops & Horticulture Boom – Details Inside! - news24online.com\", \"score\": 0.30862814, \"published_date\": \"Mon, 30 Jun 2025 06:57:28 GMT\", \"content\": \"Published Time: 2025-06-30T12:27:28+05:30\\n\\nIndia’s Agriculture GVA Triples In 12 Years, Fueled By Livestock, Crops & Horticulture Boom - Details Inside! News24 -\\n\\n===============\\n\\n   न्यूज़ 24 हिन्दी\\n   E24\\n   Web Stories\\n   ISOMES\\n   BAG Network\\n\\n\\n\\nLive TV\\n\\nImage 4: n24app link\\n\\n   Home\\n   India\\n   Cities\\n       Bengaluru\\n       Bhopal\\n       Chennai\\n       Chandigarh\\n       Delhi/NCR\\n       Hyderabad\\n       Jaipur\\n       Kolkata\\n       Lucknow\\n       Mumbai\\n       Patna [...] Home\\n   India\\n   Cities\\n       Bengaluru\\n       Bhopal\\n       Chennai\\n       Chandigarh\\n       Delhi/NCR\\n       Hyderabad\\n       Jaipur\\n       Kolkata\\n       Lucknow\\n       Mumbai\\n       Patna\\n\\n   Opinion\\n   World\\n   Sports\\n       Cricket\\n\\n   Entertainment\\n   Auto\\n   Tech\\n   Trending\\n   Business\\n   More\\n       Web Stories\\n       Lok Sabha Election\\n       Religion\\n       Lifestyle\\n       Bharat ek soch\\n       Budget 2023\\n       Education [...] ### Viral Video: Little Girl’s Cute Plea For School Admission Makes CM Yogi Smile During Janta Darshan\\n\\n Jun 23, 2025 02:11 PM IST \\n\\nView All\\n\\nQuick Link\\n----------\\n\\n   Home\\n   About Us\\n   Contact Us\\n   Web Stories\\n   Privacy Policy\\n\\nRegional News\\n-------------\\n\\nImage 27: News\\n\\n### MP Chhattisgarh\\n\\nImage 28: News\\n\\n### UP UK\\n\\nImage 29: News\\n\\n### Bihar Jharkhand\\n\\nImage 30: News\\n\\n### Punjab\\n\\nImage 31: News\\n\\n### Rajasthan\\n\\n### Contact Us\\n\\nB.A.G Convergence Limited\", \"raw_content\": null}, {\"url\": \"https://yourstory.com/2025/06/science-self-help-books\", \"title\": \"5 self-help books that are actually backed by science - YourStory.com\", \"score\": 0.24058765, \"published_date\": \"Mon, 30 Jun 2025 05:21:55 GMT\", \"content\": \"updates: Daily roundup (June 28, 2025) June 28, 2025, 4 min Read Image 26\\\")news ### Pine Labs chief earns Rs 9.5 Cr in FY25, receives 2.3 Cr ESOPs ahead of IPO June 27, 2025, 2 min Read Image 27herstorymental-health ### Slow healers in a fast world: The story of a millennial cycle-breaker June 26, 2025, 7 min Read Image 28events ### Don’t fear AI; it will soon be part of everything you do: Dell Technologies’ Vivekanandh NR on building an AI-first mindset June 25, 2025, 5 min Read Image 29\", \"raw_content\": null}], \"response_time\": 1.96}\n"
     ]
    }
   ],
   "source": [
    "for i in response['messages']:\n",
    "    i.pretty_print() "
   ]
  },
  {
   "cell_type": "code",
   "execution_count": 56,
   "id": "2216f570",
   "metadata": {},
   "outputs": [
    {
     "name": "stdout",
     "output_type": "stream",
     "text": [
      "================================\u001b[1m Human Message \u001b[0m=================================\n",
      "\n",
      "What is 5 add 2\n",
      "==================================\u001b[1m Ai Message \u001b[0m==================================\n",
      "Tool Calls:\n",
      "  addition (4pkgs5rx9)\n",
      " Call ID: 4pkgs5rx9\n",
      "  Args:\n",
      "    a: 5\n",
      "    b: 2\n",
      "=================================\u001b[1m Tool Message \u001b[0m=================================\n",
      "Name: addition\n",
      "\n",
      "7\n"
     ]
    }
   ],
   "source": [
    "response = graph.invoke({\"messages\":\"What is 5 add 2\"})\n",
    "for i in response['messages']:\n",
    "    i.pretty_print()"
   ]
  },
  {
   "cell_type": "code",
   "execution_count": 57,
   "id": "c46b8621",
   "metadata": {},
   "outputs": [
    {
     "name": "stdout",
     "output_type": "stream",
     "text": [
      "================================\u001b[1m Human Message \u001b[0m=================================\n",
      "\n",
      "Give me the recent ai news and then add 5 to 10\n",
      "==================================\u001b[1m Ai Message \u001b[0m==================================\n",
      "Tool Calls:\n",
      "  tavily_search (efx3hqa22)\n",
      " Call ID: efx3hqa22\n",
      "  Args:\n",
      "    query: recent ai news\n",
      "    search_depth: advanced\n",
      "    topic: news\n",
      "  addition (wke804fad)\n",
      " Call ID: wke804fad\n",
      "  Args:\n",
      "    a: 5\n",
      "    b: 10\n",
      "=================================\u001b[1m Tool Message \u001b[0m=================================\n",
      "Name: tavily_search\n",
      "\n",
      "{\"query\": \"recent ai news\", \"follow_up_questions\": null, \"answer\": null, \"images\": [], \"results\": [{\"url\": \"https://www.newsweek.com/nw-ai/ai-impact-awards-2025-science-engineering-2084754\", \"title\": \"AI Impact Awards 2025: The Changing Human Role in Science and Engineering - Newsweek\", \"score\": 0.7318455, \"published_date\": \"Wed, 25 Jun 2025 10:02:01 GMT\", \"content\": \"Newsweek _\\\\_will continue the conversation on meaningful AI innovations at our AI Impact Summit from June 23 to 25 in Sonoma, California. Click here to follow along on the live blog.\\\\__\\n\\nRequest Reprint & LicensingSubmit CorrectionView Editorial Guidelines\\n\\nSHARE:xfacebooklinkedinredditemailwhatsappCopy & Share\\n\\n✓ Link copied to clipboard!\\n\\nThe Latest in AI\\n----------------\\n\\nNEWSWEEK.AI\\n\\n06.09.25\\n\\n### Generative AI's Mission to Explore Strange New Worlds [...] ### AI Will Connect Mercedes-Benz Places Residents to the World\\n\\nThe new Miami condo complex will have state-of-the-art technology.\\n\\nArtificial Intelligence Miami\\n\\nNEWS\\n\\n06.04.25\\n\\n### Reddit Sues AI Provider for Breach of Contract\\n\\nThe AI start up Anthropic has allegedly engaged in \\\"unlawful and unfair business acts.\\\"\\n\\nReddit AI\\n\\nTECHNOLOGY\\n\\n06.02.25\\n\\n### Could AI Save Small Businesses? Mindbody Makes a Case to Wellness Brands [...] CloudBees also recently introduced its newest tool: Unify. It centralizes control across all major CI/CD tools to unify analytics, standardize governance and secure workflows without switching costs, according to the website.\", \"raw_content\": null}, {\"url\": \"https://yourstory.com/2025/06/workforce-needs-technical-skills\", \"title\": \"The AI Revolution: Why tomorrow's workforce needs more than technical skills - YourStory.com\", \"score\": 0.7140107, \"published_date\": \"Mon, 30 Jun 2025 11:22:21 GMT\", \"content\": \"June 26, 2025, 11 min Read Image 26\\\")ys-in-depth ### Adda Education gives skilling a big push as it looks beyond test-prep June 26, 2025, 11 min Read Image 27events ### Don’t fear AI; it will soon be part of everything you do: Dell Technologies’ Vivekanandh NR on building an AI-first mindset June 25, 2025, 5 min Read Image 28herstoryys-report ### Women engineering students show growing interest in AI/ML careers: Report June 24, 2025, 3 min Read Image 29\", \"raw_content\": null}, {\"url\": \"https://www.csoonline.com/article/4014238/cybercriminals-take-malicious-ai-to-the-next-level.html\", \"title\": \"Cybercriminals take malicious AI to the next level - csoonline.com\", \"score\": 0.71185225, \"published_date\": \"Mon, 30 Jun 2025 08:32:14 GMT\", \"content\": \"Opinion ### The rise of the compliance super soldier: A new human-AI paradigm in GRC By Nikhil Sarnot Jun 27, 2025 9 mins Compliance Generative AI IT Governance FrameworksNews Analysis ### Pressure is mounting to cut jobs in favor of AI. Here’s why you shouldn’t. By John Leyden Jun 26, 2025 5 mins IT Jobs Security Operations Center Technology IndustryNews ### The top red teamer in the US is an AI bot By Taryn Plumb Jun 25, 2025 5 mins Artificial Intelligence Generative AI Hacking [...] Flashpoint analysts tracked these developments in real-time across more than 100,000 illicit sources, monitoring everything from dark web marketplaces and Telegram groups to\\n\\nunderground LLM communities.\\n\\nBetween Jan. 1 and May 30, 2025, the researchers logged more than 2.5 million AI-related posts covering various nefarious tactics, including jailbreak prompts, deepfake service ads, phishing toolkits, and bespoke language models built for fraud and other forms of cybercrime.\", \"raw_content\": null}], \"response_time\": 2.49}\n",
      "=================================\u001b[1m Tool Message \u001b[0m=================================\n",
      "Name: addition\n",
      "\n",
      "15\n"
     ]
    }
   ],
   "source": [
    "response=graph.invoke({\"messages\":\"Give me the recent ai news and then add 5 to 10\"})\n",
    "for m in response['messages']:\n",
    "    m.pretty_print()"
   ]
  },
  {
   "cell_type": "code",
   "execution_count": 66,
   "id": "f324c1ec",
   "metadata": {},
   "outputs": [
    {
     "data": {
      "image/png": "[encoded data removed]",
      "text/plain": [
       "<IPython.core.display.Image object>"
      ]
     },
     "metadata": {},
     "output_type": "display_data"
    }
   ],
   "source": [
    "## Stategraph\n",
    "from langgraph.graph import StateGraph,START,END\n",
    "from langgraph.prebuilt import ToolNode\n",
    "from langgraph.prebuilt import tools_condition\n",
    "\n",
    "## Node definition\n",
    "def tool_calling_llm(state:State):\n",
    "    return {\"messages\":[llm_with_tool.invoke(state[\"messages\"])]}\n",
    "\n",
    "## Grpah\n",
    "builder=StateGraph(State)\n",
    "builder.add_node(\"tool_calling_llm\",tool_calling_llm)\n",
    "builder.add_node(\"tools\",ToolNode(tools))\n",
    "\n",
    "## Add Edges\n",
    "builder.add_edge(START, \"tool_calling_llm\")\n",
    "builder.add_conditional_edges(\n",
    "    \"tool_calling_llm\",\n",
    "    # If the latest message (result) from assistant is a tool call -> tools_condition routes to tools\n",
    "    # If the latest message (result) from assistant is a not a tool call -> tools_condition routes to END\n",
    "    tools_condition\n",
    ")\n",
    "builder.add_edge(\"tools\",\"tool_calling_llm\")\n",
    "\n",
    "## compile the graph\n",
    "graph=builder.compile()\n",
    "\n",
    "from IPython.display import Image, display\n",
    "display(Image(graph.get_graph().draw_mermaid_png()))"
   ]
  },
  {
   "cell_type": "code",
   "execution_count": 67,
   "id": "4e579833",
   "metadata": {},
   "outputs": [
    {
     "name": "stdout",
     "output_type": "stream",
     "text": [
      "================================\u001b[1m Human Message \u001b[0m=================================\n",
      "\n",
      "Hello my name is Rohit\n",
      "==================================\u001b[1m Ai Message \u001b[0m==================================\n",
      "Tool Calls:\n",
      "  tavily_search (dw1dr75pc)\n",
      " Call ID: dw1dr75pc\n",
      "  Args:\n",
      "    query: Rohit\n",
      "    search_depth: basic\n",
      "    topic: general\n",
      "=================================\u001b[1m Tool Message \u001b[0m=================================\n",
      "Name: tavily_search\n",
      "\n",
      "{\"query\": \"Rohit\", \"follow_up_questions\": null, \"answer\": null, \"images\": [], \"results\": [{\"title\": \"Rohit T. Aggarwala - NYC.gov\", \"url\": \"https://www.nyc.gov/site/dep/about/leadership.page\", \"content\": \"Rohit T. Aggarwala Commissioner Rohit T. \\\"Rit\\\" Aggarwala was appointed Commissioner of the New York City Department of Environmental Protection and the City's Chief Climate Officer in February 2022. Under his leadership, DEP has been at the forefront of both stormwater and coastal resilience, streamlined its procurement processes to be able to invest more money in infrastructure each\", \"score\": 0.54681134, \"raw_content\": null}, {\"title\": \"Rohit Sharma - Wikipedia\", \"url\": \"https://en.wikipedia.org/wiki/Rohit_Sharma\", \"content\": \"Sharma holds several batting records which famously include most runs in T20 Internationals, most sixes in international cricket, most double centuries in ODI cricket (3), most centuries at Cricket World Cups (7) and joint most hundreds in Twenty20 Internationals (5).He also holds the world record for the highest individual score (264) in a One Day International (ODI) and also holds the record for scoring most hundreds (five) in a single Cricket World Cup, for which he won the ICC Men's ODI Cricketer of the Year award in 2019. In March 2015, Sharma made his first appearance in the Cricket World Cup and played in eight matches for India in the 2015 tournament in Australia.\", \"score\": 0.42835352, \"raw_content\": null}, {\"title\": \"One Year On: Rohit Sharma Shares Secrets of India's World Cup Victory\", \"url\": \"https://www.si.com/onsi/cricket/one-year-on-rohit-sharma-shares-secrets-of-india-s-world-cup-victory-01jyyq2zbm39\", \"content\": \"A year after India lifted the ICC Men's T20 World Cup, captain Rohit Sharma opened up about the campaign that ended a painful drought, revisiting decisive moments and the emotional payoff of\", \"score\": 0.32334858, \"raw_content\": null}], \"response_time\": 1.35}\n",
      "==================================\u001b[1m Ai Message \u001b[0m==================================\n",
      "\n",
      "Based on the tool call id \"dw1dr75pc\", it seems that the tool yielded a list of results with a mix of content related to Rohit Aggarwala and Rohit Sharma. However, since the original query was simply \"Rohit\", I will respond with a text-based answer that summarizes the results.\n",
      "\n",
      "It appears that there are two notable individuals with the name Rohit: Rohit T. Aggarwala, the Commissioner of the New York City Department of Environmental Protection, and Rohit Sharma, a cricketer who is a captain of the Indian national team. The results also include an article about Rohit Sharma's secrets of India's World Cup victory.\n",
      "\n",
      "If you could provide more context or clarify which Rohit you are referring to, I'd be happy to provide a more specific answer.\n"
     ]
    }
   ],
   "source": [
    "response = graph.invoke({\"messages\":\"Hello my name is Rohit\"})\n",
    "for i in response['messages']:\n",
    "    i.pretty_print() "
   ]
  },
  {
   "cell_type": "code",
   "execution_count": 68,
   "id": "6cc781c6",
   "metadata": {},
   "outputs": [
    {
     "data": {
      "image/png": "[encoded data removed]",
      "text/plain": [
       "<IPython.core.display.Image object>"
      ]
     },
     "metadata": {},
     "output_type": "display_data"
    }
   ],
   "source": [
    "# Stategraph\n",
    "from langgraph.graph import StateGraph,START,END\n",
    "from langgraph.prebuilt import ToolNode\n",
    "from langgraph.prebuilt import tools_condition\n",
    "from langgraph.checkpoint.memory import MemorySaver\n",
    "\n",
    "memory = MemorySaver()\n",
    "\n",
    "## Node definition\n",
    "def tool_calling_llm(state:State):\n",
    "    return {\"messages\":[llm_with_tool.invoke(state[\"messages\"])]}\n",
    "\n",
    "## Grpah\n",
    "builder=StateGraph(State)\n",
    "builder.add_node(\"tool_calling_llm\",tool_calling_llm)\n",
    "builder.add_node(\"tools\",ToolNode(tools))\n",
    "\n",
    "## Add Edges\n",
    "builder.add_edge(START, \"tool_calling_llm\")\n",
    "builder.add_conditional_edges(\n",
    "    \"tool_calling_llm\",\n",
    "    # If the latest message (result) from assistant is a tool call -> tools_condition routes to tools\n",
    "    # If the latest message (result) from assistant is a not a tool call -> tools_condition routes to END\n",
    "    tools_condition\n",
    ")\n",
    "builder.add_edge(\"tools\",\"tool_calling_llm\")\n",
    "\n",
    "## compile the graph\n",
    "graph=builder.compile(checkpointer=memory)\n",
    "\n",
    "from IPython.display import Image, display\n",
    "display(Image(graph.get_graph().draw_mermaid_png()))"
   ]
  },
  {
   "cell_type": "code",
   "execution_count": 69,
   "id": "b3b866c0",
   "metadata": {},
   "outputs": [
    {
     "data": {
      "text/plain": [
       "{'messages': [HumanMessage(content='Hi my name is Rohit', additional_kwargs={}, response_metadata={}, id='3d15ecda-f2f4-4a25-a38e-b625251a1f94'),\n",
       "  AIMessage(content='Hi Rohit! Nice to meet you. How can I help you today?', additional_kwargs={}, response_metadata={'token_usage': {'completion_tokens': 17, 'prompt_tokens': 2193, 'total_tokens': 2210, 'completion_time': 0.014697719, 'prompt_time': 0.241372493, 'queue_time': 0.27273907500000005, 'total_time': 0.256070212}, 'model_name': 'llama3-8b-8192', 'system_fingerprint': 'fp_8b7c3a83f7', 'finish_reason': 'stop', 'logprobs': None}, id='run--0163705c-a395-440b-9625-57b5c59d2344-0', usage_metadata={'input_tokens': 2193, 'output_tokens': 17, 'total_tokens': 2210})]}"
      ]
     },
     "execution_count": 69,
     "metadata": {},
     "output_type": "execute_result"
    }
   ],
   "source": [
    "config = {\"configurable\":{\"thread_id\":\"1\"}} \n",
    "response = graph.invoke({\"messages\":\"Hi my name is Rohit\"} , config = config) \n",
    "response "
   ]
  },
  {
   "cell_type": "code",
   "execution_count": 70,
   "id": "24c40e73",
   "metadata": {},
   "outputs": [
    {
     "data": {
      "text/plain": [
       "'Hi Rohit! Nice to meet you. How can I help you today?'"
      ]
     },
     "execution_count": 70,
     "metadata": {},
     "output_type": "execute_result"
    }
   ],
   "source": [
    "\n",
    "response['messages'][-1].content"
   ]
  },
  {
   "cell_type": "code",
   "execution_count": 71,
   "id": "91b168d5",
   "metadata": {},
   "outputs": [
    {
     "name": "stdout",
     "output_type": "stream",
     "text": [
      "Your name is Rohit.\n"
     ]
    }
   ],
   "source": [
    "\n",
    "response=graph.invoke({\"messages\":\"Hey what is my name\"},config=config)\n",
    "\n",
    "print(response['messages'][-1].content)"
   ]
  },
  {
   "cell_type": "code",
   "execution_count": 72,
   "id": "845ff498",
   "metadata": {},
   "outputs": [
    {
     "name": "stdout",
     "output_type": "stream",
     "text": [
      "Yes, your name is Rohit.\n"
     ]
    }
   ],
   "source": [
    "\n",
    "response=graph.invoke({\"messages\":\"Hey do you remember my name\"},config=config)\n",
    "\n",
    "print(response['messages'][-1].content)"
   ]
  },
  {
   "cell_type": "code",
   "execution_count": 73,
   "id": "695c1075",
   "metadata": {},
   "outputs": [],
   "source": [
    "from langgraph.checkpoint.memory import MemorySaver \n",
    "memory = MemorySaver() "
   ]
  },
  {
   "cell_type": "code",
   "execution_count": 74,
   "id": "e7c0ed9b",
   "metadata": {},
   "outputs": [],
   "source": [
    "def superbot(state:State):\n",
    "    return {\"messages\":[llm.invoke(state['messages'])]}"
   ]
  },
  {
   "cell_type": "code",
   "execution_count": 75,
   "id": "4f610803",
   "metadata": {},
   "outputs": [
    {
     "data": {
      "image/png": "[encoded data removed]",
      "text/plain": [
       "<IPython.core.display.Image object>"
      ]
     },
     "metadata": {},
     "output_type": "display_data"
    }
   ],
   "source": [
    "graph=StateGraph(State)\n",
    "\n",
    "## node\n",
    "graph.add_node(\"SuperBot\",superbot)\n",
    "## Edges\n",
    "\n",
    "graph.add_edge(START,\"SuperBot\")\n",
    "graph.add_edge(\"SuperBot\",END)\n",
    "\n",
    "\n",
    "graph_builder=graph.compile(checkpointer=memory)\n",
    "\n",
    "\n",
    "## Display\n",
    "from IPython.display import Image, display\n",
    "display(Image(graph_builder.get_graph().draw_mermaid_png()))"
   ]
  },
  {
   "cell_type": "code",
   "execution_count": 76,
   "id": "42ba0766",
   "metadata": {},
   "outputs": [
    {
     "data": {
      "text/plain": [
       "{'messages': [HumanMessage(content='Hi,My name is Rohit And I like cricket', additional_kwargs={}, response_metadata={}, id='2b7f30f0-7763-4e90-8ed2-4dc9a684b317'),\n",
       "  AIMessage(content=\"Hi Rohit! Nice to meet you! Cricket is a fantastic sport, isn't it? Who's your favorite team or player?\", additional_kwargs={}, response_metadata={'token_usage': {'completion_tokens': 28, 'prompt_tokens': 21, 'total_tokens': 49, 'completion_time': 0.019837752, 'prompt_time': 0.002875694, 'queue_time': 0.27111461600000003, 'total_time': 0.022713446}, 'model_name': 'llama3-8b-8192', 'system_fingerprint': 'fp_2717d04279', 'finish_reason': 'stop', 'logprobs': None}, id='run--61365874-8473-44c0-ab68-94b99eccf2b0-0', usage_metadata={'input_tokens': 21, 'output_tokens': 28, 'total_tokens': 49})]}"
      ]
     },
     "execution_count": 76,
     "metadata": {},
     "output_type": "execute_result"
    }
   ],
   "source": [
    "## Invocation\n",
    "\n",
    "config = {\"configurable\": {\"thread_id\": \"1\"}}\n",
    "\n",
    "graph_builder.invoke({'messages':\"Hi,My name is Rohit And I like cricket\"},config)"
   ]
  },
  {
   "cell_type": "code",
   "execution_count": 77,
   "id": "ab9d9d4a",
   "metadata": {},
   "outputs": [
    {
     "name": "stdout",
     "output_type": "stream",
     "text": [
      "{'SuperBot': {'messages': [AIMessage(content=\"Hi Rohit! Nice to meet you! Cricket is a fantastic sport, isn't it? Which team do you support? Are you a fan of Indian cricket or do you follow other teams like Australia, England, or Pakistan?\", additional_kwargs={}, response_metadata={'token_usage': {'completion_tokens': 47, 'prompt_tokens': 21, 'total_tokens': 68, 'completion_time': 0.039272898, 'prompt_time': 0.005052256, 'queue_time': 0.388061302, 'total_time': 0.044325154}, 'model_name': 'llama3-8b-8192', 'system_fingerprint': 'fp_8b7c3a83f7', 'finish_reason': 'stop', 'logprobs': None}, id='run--e5479c6b-d58a-4b72-a396-4492e975921f-0', usage_metadata={'input_tokens': 21, 'output_tokens': 47, 'total_tokens': 68})]}}\n"
     ]
    }
   ],
   "source": [
    "# Create a thread\n",
    "config = {\"configurable\": {\"thread_id\": \"3\"}}\n",
    "\n",
    "for chunk in graph_builder.stream({'messages':\"Hi,My name is Rohit And I like cricket\"},config,stream_mode=\"updates\"):\n",
    "    print(chunk)"
   ]
  },
  {
   "cell_type": "code",
   "execution_count": null,
   "id": "34b7eb58",
   "metadata": {},
   "outputs": [],
   "source": []
  }
 ],
 "metadata": {
  "kernelspec": {
   "display_name": "a7_lang",
   "language": "python",
   "name": "python3"
  },
  "language_info": {
   "codemirror_mode": {
    "name": "ipython",
    "version": 3
   },
   "file_extension": ".py",
   "mimetype": "text/x-python",
   "name": "python",
   "nbconvert_exporter": "python",
   "pygments_lexer": "ipython3",
   "version": "3.13.2"
  }
 },
 "nbformat": 4,
 "nbformat_minor": 5
}
